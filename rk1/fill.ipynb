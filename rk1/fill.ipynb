{
 "cells": [
  {
   "cell_type": "code",
   "id": "initial_id",
   "metadata": {
    "collapsed": true,
    "ExecuteTime": {
     "end_time": "2024-11-14T13:28:27.339142Z",
     "start_time": "2024-11-14T13:28:27.335885Z"
    }
   },
   "source": [
    "import faker\n",
    "import pandas as pd\n",
    "from datetime import datetime, date\n",
    "from random import randint"
   ],
   "outputs": [],
   "execution_count": 36
  },
  {
   "metadata": {
    "ExecuteTime": {
     "end_time": "2024-11-14T13:28:27.525056Z",
     "start_time": "2024-11-14T13:28:27.513480Z"
    }
   },
   "cell_type": "code",
   "source": [
    "generator = faker.Faker()\n",
    "consumers_names = []\n",
    "for i in range(20):\n",
    "    consumers_names.append(generator.name())\n",
    "consumers_names"
   ],
   "id": "ff4358244dcd7117",
   "outputs": [
    {
     "data": {
      "text/plain": [
       "['Mrs. Kayla Lee',\n",
       " 'Christopher Wilson',\n",
       " 'Anthony Carlson',\n",
       " 'Cynthia Powell',\n",
       " 'Tyler Phelps',\n",
       " 'Brenda Henson',\n",
       " 'Tracey Johnson',\n",
       " 'Anna Miller',\n",
       " 'Nicole Moore',\n",
       " 'Erin Reeves',\n",
       " 'John Young',\n",
       " 'Rebecca Stewart',\n",
       " 'Billy Macdonald',\n",
       " 'Natasha Ramirez',\n",
       " 'Brooke Clark',\n",
       " 'Elizabeth Thompson',\n",
       " 'Nicholas Fletcher',\n",
       " 'Troy Martinez',\n",
       " 'Christine Pena',\n",
       " 'Hannah Mitchell']"
      ]
     },
     "execution_count": 37,
     "metadata": {},
     "output_type": "execute_result"
    }
   ],
   "execution_count": 37
  },
  {
   "metadata": {
    "ExecuteTime": {
     "end_time": "2024-11-14T13:28:27.665484Z",
     "start_time": "2024-11-14T13:28:27.657476Z"
    }
   },
   "cell_type": "code",
   "source": [
    "consumers_dobs=[]\n",
    "for i in range(20):\n",
    "    consumers_dobs.append(generator.date_between(start_date=date(year=1960, day=1, month=1), end_date=date(year=2014, month=1, day=1)))\n",
    "consumers_dobs"
   ],
   "id": "b2795303ce66d44",
   "outputs": [
    {
     "data": {
      "text/plain": [
       "[datetime.date(1965, 2, 25),\n",
       " datetime.date(1962, 8, 27),\n",
       " datetime.date(1987, 9, 21),\n",
       " datetime.date(1967, 2, 9),\n",
       " datetime.date(1978, 11, 6),\n",
       " datetime.date(1972, 10, 29),\n",
       " datetime.date(1989, 1, 2),\n",
       " datetime.date(1998, 10, 1),\n",
       " datetime.date(2007, 5, 3),\n",
       " datetime.date(1960, 2, 19),\n",
       " datetime.date(1966, 1, 31),\n",
       " datetime.date(1963, 12, 26),\n",
       " datetime.date(1981, 8, 29),\n",
       " datetime.date(1968, 9, 30),\n",
       " datetime.date(1970, 5, 4),\n",
       " datetime.date(2005, 1, 26),\n",
       " datetime.date(2005, 11, 24),\n",
       " datetime.date(1997, 6, 6),\n",
       " datetime.date(1990, 3, 8),\n",
       " datetime.date(1963, 9, 7)]"
      ]
     },
     "execution_count": 38,
     "metadata": {},
     "output_type": "execute_result"
    }
   ],
   "execution_count": 38
  },
  {
   "metadata": {
    "ExecuteTime": {
     "end_time": "2024-11-14T13:28:27.805044Z",
     "start_time": "2024-11-14T13:28:27.793050Z"
    }
   },
   "cell_type": "code",
   "source": [
    "consumers_cities = []\n",
    "for i in range(20):\n",
    "    consumers_cities.append(generator.city())\n",
    "consumers_cities"
   ],
   "id": "3cb89d230db17bba",
   "outputs": [
    {
     "data": {
      "text/plain": [
       "['Port April',\n",
       " 'Snowland',\n",
       " 'Bowmanhaven',\n",
       " 'Atkinsonland',\n",
       " 'Amystad',\n",
       " 'Whiteland',\n",
       " 'Warechester',\n",
       " 'North Ronnie',\n",
       " 'Lake James',\n",
       " 'Charlesborough',\n",
       " 'Grayborough',\n",
       " 'West Brad',\n",
       " 'Hunterstad',\n",
       " 'Johnmouth',\n",
       " 'Dayborough',\n",
       " 'Port Christinefort',\n",
       " 'New Christopherville',\n",
       " 'Townsendchester',\n",
       " 'Port Sandraton',\n",
       " 'Mcgeeberg']"
      ]
     },
     "execution_count": 39,
     "metadata": {},
     "output_type": "execute_result"
    }
   ],
   "execution_count": 39
  },
  {
   "metadata": {
    "ExecuteTime": {
     "end_time": "2024-11-14T13:28:27.919620Z",
     "start_time": "2024-11-14T13:28:27.912209Z"
    }
   },
   "cell_type": "code",
   "source": [
    "consumers_phones = []\n",
    "for i in range(20):\n",
    "    consumers_phones.append(f\"+7-{randint(100, 999)}-{randint(100, 999)}-{randint(10, 99)}-{randint(10, 99)}\")\n",
    "consumers_phones"
   ],
   "id": "f104037b423285c2",
   "outputs": [
    {
     "data": {
      "text/plain": [
       "['+7-957-533-72-36',\n",
       " '+7-512-835-71-98',\n",
       " '+7-986-482-43-82',\n",
       " '+7-637-882-80-20',\n",
       " '+7-932-814-67-45',\n",
       " '+7-201-243-47-51',\n",
       " '+7-803-778-74-56',\n",
       " '+7-187-172-55-88',\n",
       " '+7-373-192-19-23',\n",
       " '+7-872-242-92-79',\n",
       " '+7-218-601-97-29',\n",
       " '+7-643-230-60-64',\n",
       " '+7-892-268-65-62',\n",
       " '+7-474-500-91-31',\n",
       " '+7-786-582-63-30',\n",
       " '+7-578-396-97-73',\n",
       " '+7-551-293-39-13',\n",
       " '+7-519-764-68-16',\n",
       " '+7-999-714-48-85',\n",
       " '+7-915-200-64-68']"
      ]
     },
     "execution_count": 40,
     "metadata": {},
     "output_type": "execute_result"
    }
   ],
   "execution_count": 40
  },
  {
   "metadata": {
    "ExecuteTime": {
     "end_time": "2024-11-14T13:34:37.303736Z",
     "start_time": "2024-11-14T13:34:37.295073Z"
    }
   },
   "cell_type": "code",
   "source": "pd.DataFrame({\"name\":consumers_names, \"dob\":consumers_dobs, \"city\":consumers_cities, \"phone\":consumers_phones}).to_csv(\"consumers\", index=False)",
   "id": "d76e161ec12758ba",
   "outputs": [],
   "execution_count": 50
  },
  {
   "metadata": {
    "ExecuteTime": {
     "end_time": "2024-11-14T13:28:28.173981Z",
     "start_time": "2024-11-14T13:28:28.155289Z"
    }
   },
   "cell_type": "code",
   "source": [
    "generator = faker.Faker()\n",
    "sellers_names = []\n",
    "for i in range(20):\n",
    "    sellers_names.append(generator.name())\n",
    "sellers_names"
   ],
   "id": "c8f8a2385c075bd4",
   "outputs": [
    {
     "data": {
      "text/plain": [
       "['Adrian Herring',\n",
       " 'Katrina Martin',\n",
       " 'Brett Lee',\n",
       " 'Alexander Molina',\n",
       " 'Kenneth Daniel',\n",
       " 'Michael Cooper',\n",
       " 'Gabriel Miller',\n",
       " 'Joann Gillespie',\n",
       " 'Jacob Burgess',\n",
       " 'Nancy Mcpherson',\n",
       " 'Julie Moreno',\n",
       " 'Kimberly Taylor',\n",
       " 'Ariel Terry',\n",
       " 'Megan Jones',\n",
       " 'David Fowler',\n",
       " 'Matthew Daniels',\n",
       " 'Jessica Foley',\n",
       " 'Austin Morgan',\n",
       " 'Haley Meyers',\n",
       " 'Matthew Brown']"
      ]
     },
     "execution_count": 42,
     "metadata": {},
     "output_type": "execute_result"
    }
   ],
   "execution_count": 42
  },
  {
   "metadata": {
    "ExecuteTime": {
     "end_time": "2024-11-14T13:28:28.313175Z",
     "start_time": "2024-11-14T13:28:28.301876Z"
    }
   },
   "cell_type": "code",
   "source": [
    "sellers_phones = []\n",
    "for i in range(20):\n",
    "    sellers_phones.append(f\"+7-{randint(100, 999)}-{randint(100, 999)}-{randint(10, 99)}-{randint(10, 99)}\")\n",
    "sellers_phones"
   ],
   "id": "e46dbdbd1308eb99",
   "outputs": [
    {
     "data": {
      "text/plain": [
       "['+7-332-520-30-76',\n",
       " '+7-666-548-90-11',\n",
       " '+7-289-160-70-60',\n",
       " '+7-293-431-80-93',\n",
       " '+7-550-874-10-74',\n",
       " '+7-751-757-75-59',\n",
       " '+7-725-518-40-13',\n",
       " '+7-842-584-17-42',\n",
       " '+7-419-101-73-14',\n",
       " '+7-690-673-98-90',\n",
       " '+7-790-215-36-38',\n",
       " '+7-795-481-50-84',\n",
       " '+7-116-936-85-93',\n",
       " '+7-468-814-62-71',\n",
       " '+7-393-395-55-95',\n",
       " '+7-163-825-43-20',\n",
       " '+7-358-987-65-62',\n",
       " '+7-599-617-19-34',\n",
       " '+7-394-805-56-58',\n",
       " '+7-794-932-41-31']"
      ]
     },
     "execution_count": 43,
     "metadata": {},
     "output_type": "execute_result"
    }
   ],
   "execution_count": 43
  },
  {
   "metadata": {
    "ExecuteTime": {
     "end_time": "2024-11-14T13:28:28.401574Z",
     "start_time": "2024-11-14T13:28:28.391960Z"
    }
   },
   "cell_type": "code",
   "source": [
    "sellers_passports = []\n",
    "for i in range(20):\n",
    "    sellers_passports.append(f\"{randint(10, 99)} {randint(10, 99)} {randint(100000, 999999)}\")\n",
    "sellers_passports"
   ],
   "id": "30bef7d20555793e",
   "outputs": [
    {
     "data": {
      "text/plain": [
       "['41 26 896973',\n",
       " '52 68 965182',\n",
       " '35 74 324503',\n",
       " '74 52 458657',\n",
       " '60 88 332692',\n",
       " '85 69 546625',\n",
       " '62 67 982706',\n",
       " '63 80 895947',\n",
       " '47 72 591795',\n",
       " '64 35 762463',\n",
       " '44 82 994439',\n",
       " '23 73 371470',\n",
       " '94 28 986199',\n",
       " '80 56 785521',\n",
       " '48 24 422409',\n",
       " '47 73 212408',\n",
       " '29 18 935358',\n",
       " '97 59 911908',\n",
       " '32 75 560462',\n",
       " '15 99 356595']"
      ]
     },
     "execution_count": 44,
     "metadata": {},
     "output_type": "execute_result"
    }
   ],
   "execution_count": 44
  },
  {
   "metadata": {
    "ExecuteTime": {
     "end_time": "2024-11-14T13:34:43.461118Z",
     "start_time": "2024-11-14T13:34:43.450443Z"
    }
   },
   "cell_type": "code",
   "source": "pd.DataFrame({\"name\":sellers_names, \"passport\":sellers_passports, \"phone\":sellers_phones}).to_csv(\"sellers\", index=False)",
   "id": "bcba1b8655efc957",
   "outputs": [],
   "execution_count": 51
  },
  {
   "metadata": {
    "ExecuteTime": {
     "end_time": "2024-11-14T13:28:28.660153Z",
     "start_time": "2024-11-14T13:28:28.654044Z"
    }
   },
   "cell_type": "code",
   "source": "flowers_names = [\"Summer night\", \"Fall dream\", \"Spring breeze\", \"Winter sun\", \"Colorful sea\", \"Rose madness\", \"Venice\", \"Flowers rain\", \"Orange sky\", \"Red roses\"]",
   "id": "7a674469fb3bbc11",
   "outputs": [],
   "execution_count": 46
  },
  {
   "metadata": {
    "ExecuteTime": {
     "end_time": "2024-11-14T13:39:23.238605Z",
     "start_time": "2024-11-14T13:39:23.232306Z"
    }
   },
   "cell_type": "code",
   "source": "pd.DataFrame({\"author\":[randint(1, 10) for i in range(10)], \"name\": flowers_names}).to_csv(\"flowers\", index=False)",
   "id": "1164c48804c87d7a",
   "outputs": [],
   "execution_count": 53
  },
  {
   "metadata": {
    "ExecuteTime": {
     "end_time": "2024-11-14T13:41:15.895751Z",
     "start_time": "2024-11-14T13:41:15.886950Z"
    }
   },
   "cell_type": "code",
   "source": "pd.DataFrame({\"seller_id\": [randint(1, 20) for i in range(50)], \"consumer_id\":[randint(1, 20) for i in range(50)]}).to_csv(\"sellers_consumers\", index=False)",
   "id": "f7fa6c67937042e9",
   "outputs": [],
   "execution_count": 54
  },
  {
   "metadata": {},
   "cell_type": "markdown",
   "source": "",
   "id": "aad3e5bf1fe13b3f"
  },
  {
   "metadata": {},
   "cell_type": "code",
   "outputs": [],
   "execution_count": null,
   "source": "",
   "id": "961199d8cd857ad"
  }
 ],
 "metadata": {
  "kernelspec": {
   "display_name": "Python 3",
   "language": "python",
   "name": "python3"
  },
  "language_info": {
   "codemirror_mode": {
    "name": "ipython",
    "version": 2
   },
   "file_extension": ".py",
   "mimetype": "text/x-python",
   "name": "python",
   "nbconvert_exporter": "python",
   "pygments_lexer": "ipython2",
   "version": "2.7.6"
  }
 },
 "nbformat": 4,
 "nbformat_minor": 5
}
